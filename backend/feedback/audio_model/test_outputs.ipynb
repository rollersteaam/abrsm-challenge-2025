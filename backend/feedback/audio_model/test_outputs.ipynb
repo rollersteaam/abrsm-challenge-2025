{
 "cells": [
  {
   "cell_type": "code",
   "execution_count": 1,
   "id": "c3c00fba",
   "metadata": {},
   "outputs": [
    {
     "name": "stdout",
     "output_type": "stream",
     "text": [
      "Testing on validation set track ID: NRrbDxBR_1\n",
      "\u001b[1m3/3\u001b[0m \u001b[32m━━━━━━━━━━━━━━━━━━━━\u001b[0m\u001b[37m\u001b[0m \u001b[1m9s\u001b[0m 3s/step\n",
      "(90, 6144)\n"
     ]
    },
    {
     "data": {
      "image/png": "[encoded data removed]",
      "text/plain": [
       "<Figure size 640x480 with 1 Axes>"
      ]
     },
     "metadata": {},
     "output_type": "display_data"
    },
    {
     "name": "stdout",
     "output_type": "stream",
     "text": [
      "Predicted Mark: 85, Actual Mark: 85\n"
     ]
    }
   ],
   "source": [
    "import soundfile as sf\n",
    "import torch\n",
    "import numpy as np\n",
    "import openl3\n",
    "from combined_model import combined_model\n",
    "import matplotlib.pyplot as plt\n",
    "\n",
    "def create_song_embedding(file_path):\n",
    "    audio, sr = sf.read(file_path)  # waveform and sampling rate\n",
    "    # Get embedding\n",
    "    emb, ts = openl3.get_audio_embedding(audio, sr, hop_size=1.0)\n",
    "    print(emb.shape)\n",
    "    return emb\n",
    "\n",
    "def load_model(model, checkpoint_path):\n",
    "    #Model Paramaters\n",
    "    spec_size = 1500\n",
    "    dim = 64\n",
    "    drop = 0.15\n",
    "    in_channels_class = 128\n",
    "    model = combined_model(drop)\n",
    "    model.load_state_dict(torch.load(checkpoint_path))\n",
    "    model.eval()\n",
    "    return model\n",
    "\n",
    "def load_labels(label_path):\n",
    "    labels = np.load(label_path, allow_pickle=True)\n",
    "    return labels\n",
    "\n",
    "def load_val_set_track_ids(path):\n",
    "    return np.load(path, allow_pickle=True).tolist()\n",
    "\n",
    "def load_grade_dict(path):\n",
    "    grades = np.load(path, allow_pickle=True)\n",
    "    return grades\n",
    "\n",
    "def test(model, filepath):\n",
    "    device = torch.device(\"mps\" if torch.backends.mps.is_available() else \"cpu\")\n",
    "    model = load_model(model, '/Users/acw707/Documents/abrsm-challenge-2025/model/checkpoints/best_model.pt')\n",
    "    model.to(device)\n",
    "    emb = create_song_embedding(filepath)\n",
    "    emb = torch.tensor(emb).to(device)  # Add batch dimension\n",
    "    emb = emb.mean(axis=0).unsqueeze(0)\n",
    "    grades = load_grade_dict('/Users/acw707/Documents/abrsm_lmth25/data/grade_dict.npz')\n",
    "    grade = grades[filepath.split('/')[-1][:-4]] \n",
    "    emb = torch.cat((emb, torch.tensor(grade, dtype=torch.float32).to(device).unsqueeze(0)), dim=1)\n",
    "    with torch.no_grad():\n",
    "        output = model(emb)\n",
    "        predicted_mark = output.argmax(dim=1).item() + 60\n",
    "    labels = load_labels('/Users/acw707/Documents/abrsm_lmth25/data/mark_dict.npz')\n",
    "    label = labels[filepath.split('/')[-1][:-4]]\n",
    "    softmax_output = torch.nn.functional.softmax(output, dim=1)\n",
    "    plt.plot(softmax_output.cpu().numpy().squeeze())\n",
    "    plt.plot(label, linestyle='dashed')\n",
    "    plt.show()\n",
    "    actual_mark = label.argmax() + 60\n",
    "    print(f'Predicted Mark: {predicted_mark}, Actual Mark: {actual_mark}')\n",
    "    return predicted_mark, actual_mark\n",
    "\n",
    "val_track_ids = load_val_set_track_ids('/Users/acw707/Documents/abrsm-challenge-2025/model/checkpoints/val_set_track_ids.npy')\n",
    "correct_within_0 = 0\n",
    "correct_within_1 = 0\n",
    "correct_within_2 = 0\n",
    "correct_within_3 = 0\n",
    "correct_within_4 = 0\n",
    "correct_within_5 = 0\n",
    "total = len(val_track_ids)\n",
    "running_total = 0\n",
    "for song in val_track_ids:\n",
    "    if running_total != 1:\n",
    "        running_total += 1\n",
    "        continue\n",
    "    print(f'Testing on validation set track ID: {song}')\n",
    "    predicted_mark, actual_mark = test(combined_model, f'/Users/acw707/Documents/abrsm_lmth25/audio/{song}.mp3')\n",
    "    if abs(predicted_mark - actual_mark) <= 5:\n",
    "        correct_within_5 += 1\n",
    "    if abs(predicted_mark - actual_mark) <= 4:\n",
    "        correct_within_4 += 1\n",
    "    if abs(predicted_mark - actual_mark) <= 3:\n",
    "        correct_within_3 += 1\n",
    "    if abs(predicted_mark - actual_mark) <= 2:\n",
    "        correct_within_2 += 1\n",
    "    if abs(predicted_mark - actual_mark) <= 1:\n",
    "        correct_within_1 += 1\n",
    "    if abs(predicted_mark - actual_mark) == 0:\n",
    "        correct_within_0 += 1   \n",
    "    running_total += 1\n",
    "    break\n",
    "    print(f'Current Accuracy within 0: {correct_within_0}/{running_total} = {correct_within_0/running_total}')\n",
    "    print(f'Current Accuracy within 1: {correct_within_1}/{running_total} = {correct_within_1/running_total}')\n",
    "    print(f'Current Accuracy within 2: {correct_within_2}/{running_total} = {correct_within_2/running_total}')\n",
    "    print(f'Current Accuracy within 3: {correct_within_3}/{running_total} = {correct_within_3/running_total}')\n",
    "    print(f'Current Accuracy within 4: {correct_within_4}/{running_total} = {correct_within_4/running_total}')\n",
    "    print(f'Current Accuracy within 5: {correct_within_5}/{running_total} = {correct_within_5/running_total}')\n"
   ]
  },
  {
   "cell_type": "code",
   "execution_count": null,
   "id": "d82bf271",
   "metadata": {},
   "outputs": [],
   "source": []
  }
 ],
 "metadata": {
  "kernelspec": {
   "display_name": "hackathon",
   "language": "python",
   "name": "python3"
  },
  "language_info": {
   "codemirror_mode": {
    "name": "ipython",
    "version": 3
   },
   "file_extension": ".py",
   "mimetype": "text/x-python",
   "name": "python",
   "nbconvert_exporter": "python",
   "pygments_lexer": "ipython3",
   "version": "3.11.13"
  }
 },
 "nbformat": 4,
 "nbformat_minor": 5
}
