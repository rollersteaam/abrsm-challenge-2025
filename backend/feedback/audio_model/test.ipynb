{
 "cells": [
  {
   "cell_type": "code",
   "execution_count": 3,
   "id": "6d20ab5e",
   "metadata": {},
   "outputs": [],
   "source": [
    "import numpy as np"
   ]
  },
  {
   "cell_type": "code",
   "execution_count": 4,
   "id": "23b96f3f",
   "metadata": {},
   "outputs": [],
   "source": [
    "mark_dist = np.load('/Users/acw707/Documents/abrsm_lmth25/mark_dist.npy')"
   ]
  },
  {
   "cell_type": "code",
   "execution_count": 7,
   "id": "c22b6738",
   "metadata": {},
   "outputs": [
    {
     "name": "stdout",
     "output_type": "stream",
     "text": [
      "[ 2.  2.  2.  1.  2.  8.  6. 14. 14.  8. 17.  5. 14. 18. 29. 22. 26. 23.\n",
      " 43. 44. 30. 22. 30. 33. 18. 26. 21. 26. 17. 26. 20. 10. 14.  8. 12.  8.\n",
      "  6.  0.  0.  0.]\n"
     ]
    }
   ],
   "source": [
    "print(mark_dist)"
   ]
  },
  {
   "cell_type": "code",
   "execution_count": 10,
   "id": "a096f483",
   "metadata": {},
   "outputs": [],
   "source": [
    "weights = 1.0 / (mark_dist + 1e-6)\n",
    "weights[mark_dist == 0] = 0  # Set weight to zero for classes with no samples\n",
    "weights = weights / weights.sum()  # Optional: normalize"
   ]
  },
  {
   "cell_type": "code",
   "execution_count": 11,
   "id": "f350e73d",
   "metadata": {},
   "outputs": [
    {
     "name": "stdout",
     "output_type": "stream",
     "text": [
      "[0.09443892 0.09443892 0.09443892 0.18887775 0.09443892 0.02360974\n",
      " 0.03147965 0.01349128 0.01349128 0.02360974 0.01111047 0.03777558\n",
      " 0.01349128 0.01049322 0.00651303 0.00858536 0.00726453 0.00821208\n",
      " 0.00439251 0.00429268 0.00629593 0.00858536 0.00629593 0.00572357\n",
      " 0.01049322 0.00726453 0.00899419 0.00726453 0.01111047 0.00726453\n",
      " 0.0094439  0.01888779 0.01349128 0.02360974 0.01573983 0.02360974\n",
      " 0.03147965 0.         0.         0.        ]\n"
     ]
    }
   ],
   "source": [
    "print(weights)"
   ]
  },
  {
   "cell_type": "code",
   "execution_count": null,
   "id": "3a76e9ad",
   "metadata": {},
   "outputs": [],
   "source": []
  }
 ],
 "metadata": {
  "kernelspec": {
   "display_name": "hackathon",
   "language": "python",
   "name": "python3"
  },
  "language_info": {
   "codemirror_mode": {
    "name": "ipython",
    "version": 3
   },
   "file_extension": ".py",
   "mimetype": "text/x-python",
   "name": "python",
   "nbconvert_exporter": "python",
   "pygments_lexer": "ipython3",
   "version": "3.13.5"
  }
 },
 "nbformat": 4,
 "nbformat_minor": 5
}
