{
 "cells": [
  {
   "cell_type": "code",
   "execution_count": 23,
   "id": "6d20ab5e",
   "metadata": {},
   "outputs": [],
   "source": [
    "import numpy as np"
   ]
  },
  {
   "cell_type": "code",
   "execution_count": 24,
   "id": "a672ac4f",
   "metadata": {},
   "outputs": [
    {
     "ename": "LookupError",
     "evalue": "unknown encoding: cp437",
     "output_type": "error",
     "traceback": [
      "\u001b[31m---------------------------------------------------------------------------\u001b[39m",
      "\u001b[31mLookupError\u001b[39m                               Traceback (most recent call last)",
      "\u001b[36mCell\u001b[39m\u001b[36m \u001b[39m\u001b[32mIn[24]\u001b[39m\u001b[32m, line 1\u001b[39m\n\u001b[32m----> \u001b[39m\u001b[32m1\u001b[39m w2v = \u001b[43mnp\u001b[49m\u001b[43m.\u001b[49m\u001b[43mload\u001b[49m\u001b[43m(\u001b[49m\u001b[33;43m'\u001b[39;49m\u001b[33;43m/Users/acw707/Documents/abrsm_lmth25/data/w2v_dict.npz\u001b[39;49m\u001b[33;43m'\u001b[39;49m\u001b[43m)\u001b[49m\n",
      "\u001b[36mFile \u001b[39m\u001b[32m/opt/miniconda3/envs/hackathon/lib/python3.13/site-packages/numpy/lib/_npyio_impl.py:471\u001b[39m, in \u001b[36mload\u001b[39m\u001b[34m(file, mmap_mode, allow_pickle, fix_imports, encoding, max_header_size)\u001b[39m\n\u001b[32m    467\u001b[39m     stack.pop_all()\n\u001b[32m    468\u001b[39m     ret = NpzFile(fid, own_fid=own_fid, allow_pickle=allow_pickle,\n\u001b[32m    469\u001b[39m                   pickle_kwargs=pickle_kwargs,\n\u001b[32m    470\u001b[39m                   max_header_size=max_header_size)\n\u001b[32m--> \u001b[39m\u001b[32m471\u001b[39m     \u001b[38;5;28;01mreturn\u001b[39;00m ret\n\u001b[32m    472\u001b[39m \u001b[38;5;28;01melif\u001b[39;00m magic == \u001b[38;5;28mformat\u001b[39m.MAGIC_PREFIX:\n\u001b[32m    473\u001b[39m     \u001b[38;5;66;03m# .npy file\u001b[39;00m\n\u001b[32m    474\u001b[39m     \u001b[38;5;28;01mif\u001b[39;00m mmap_mode:\n",
      "\u001b[36mFile \u001b[39m\u001b[32m/opt/miniconda3/envs/hackathon/lib/python3.13/site-packages/numpy/lib/_npyio_impl.py:197\u001b[39m, in \u001b[36m__init__\u001b[39m\u001b[34m(self, fid, own_fid, allow_pickle, pickle_kwargs, max_header_size)\u001b[39m\n\u001b[32m    195\u001b[39m     if x.endswith('.npy'):\n\u001b[32m    196\u001b[39m         self.files.append(x[:-4])\n\u001b[32m--> \u001b[39m\u001b[32m197\u001b[39m     else:\n\u001b[32m    198\u001b[39m         self.files.append(x)\n\u001b[32m    199\u001b[39m self.zip = _zip\n",
      "\u001b[36mFile \u001b[39m\u001b[32m/opt/miniconda3/envs/hackathon/lib/python3.13/site-packages/numpy/lib/_npyio_impl.py:112\u001b[39m, in \u001b[36mzipfile_factory\u001b[39m\u001b[34m(file, *args, **kwargs)\u001b[39m\n\u001b[32m    106\u001b[39m \u001b[38;5;129m@set_module\u001b[39m(\u001b[33m'\u001b[39m\u001b[33mnumpy.lib.npyio\u001b[39m\u001b[33m'\u001b[39m)\n\u001b[32m    107\u001b[39m \u001b[38;5;28;01mclass\u001b[39;00m\u001b[38;5;250m \u001b[39m\u001b[34;01mNpzFile\u001b[39;00m(Mapping):\n\u001b[32m    108\u001b[39m \u001b[38;5;250m    \u001b[39m\u001b[33;03m\"\"\"\u001b[39;00m\n\u001b[32m    109\u001b[39m \u001b[33;03m    NpzFile(fid)\u001b[39;00m\n\u001b[32m    110\u001b[39m \n\u001b[32m    111\u001b[39m \u001b[33;03m    A dictionary-like object with lazy-loading of files in the zipped\u001b[39;00m\n\u001b[32m--> \u001b[39m\u001b[32m112\u001b[39m \u001b[33;03m    archive provided on construction.\u001b[39;00m\n\u001b[32m    113\u001b[39m \n\u001b[32m    114\u001b[39m \u001b[33;03m    `NpzFile` is used to load files in the NumPy ``.npz`` data archive\u001b[39;00m\n\u001b[32m    115\u001b[39m \u001b[33;03m    format. It assumes that files in the archive have a ``.npy`` extension,\u001b[39;00m\n\u001b[32m    116\u001b[39m \u001b[33;03m    other files are ignored.\u001b[39;00m\n\u001b[32m    117\u001b[39m \n\u001b[32m    118\u001b[39m \u001b[33;03m    The arrays and file strings are lazily loaded on either\u001b[39;00m\n\u001b[32m    119\u001b[39m \u001b[33;03m    getitem access using ``obj['key']`` or attribute lookup using\u001b[39;00m\n\u001b[32m    120\u001b[39m \u001b[33;03m    ``obj.f.key``. A list of all files (without ``.npy`` extensions) can\u001b[39;00m\n\u001b[32m    121\u001b[39m \u001b[33;03m    be obtained with ``obj.files`` and the ZipFile object itself using\u001b[39;00m\n\u001b[32m    122\u001b[39m \u001b[33;03m    ``obj.zip``.\u001b[39;00m\n\u001b[32m    123\u001b[39m \n\u001b[32m    124\u001b[39m \u001b[33;03m    Attributes\u001b[39;00m\n\u001b[32m    125\u001b[39m \u001b[33;03m    ----------\u001b[39;00m\n\u001b[32m    126\u001b[39m \u001b[33;03m    files : list of str\u001b[39;00m\n\u001b[32m    127\u001b[39m \u001b[33;03m        List of all files in the archive with a ``.npy`` extension.\u001b[39;00m\n\u001b[32m    128\u001b[39m \u001b[33;03m    zip : ZipFile instance\u001b[39;00m\n\u001b[32m    129\u001b[39m \u001b[33;03m        The ZipFile object initialized with the zipped archive.\u001b[39;00m\n\u001b[32m    130\u001b[39m \u001b[33;03m    f : BagObj instance\u001b[39;00m\n\u001b[32m    131\u001b[39m \u001b[33;03m        An object on which attribute can be performed as an alternative\u001b[39;00m\n\u001b[32m    132\u001b[39m \u001b[33;03m        to getitem access on the `NpzFile` instance itself.\u001b[39;00m\n\u001b[32m    133\u001b[39m \u001b[33;03m    allow_pickle : bool, optional\u001b[39;00m\n\u001b[32m    134\u001b[39m \u001b[33;03m        Allow loading pickled data. Default: False\u001b[39;00m\n\u001b[32m    135\u001b[39m \u001b[33;03m    pickle_kwargs : dict, optional\u001b[39;00m\n\u001b[32m    136\u001b[39m \u001b[33;03m        Additional keyword arguments to pass on to pickle.load.\u001b[39;00m\n\u001b[32m    137\u001b[39m \u001b[33;03m        These are only useful when loading object arrays saved on\u001b[39;00m\n\u001b[32m    138\u001b[39m \u001b[33;03m        Python 2 when using Python 3.\u001b[39;00m\n\u001b[32m    139\u001b[39m \u001b[33;03m    max_header_size : int, optional\u001b[39;00m\n\u001b[32m    140\u001b[39m \u001b[33;03m        Maximum allowed size of the header.  Large headers may not be safe\u001b[39;00m\n\u001b[32m    141\u001b[39m \u001b[33;03m        to load securely and thus require explicitly passing a larger value.\u001b[39;00m\n\u001b[32m    142\u001b[39m \u001b[33;03m        See :py:func:`ast.literal_eval()` for details.\u001b[39;00m\n\u001b[32m    143\u001b[39m \u001b[33;03m        This option is ignored when `allow_pickle` is passed.  In that case\u001b[39;00m\n\u001b[32m    144\u001b[39m \u001b[33;03m        the file is by definition trusted and the limit is unnecessary.\u001b[39;00m\n\u001b[32m    145\u001b[39m \n\u001b[32m    146\u001b[39m \u001b[33;03m    Parameters\u001b[39;00m\n\u001b[32m    147\u001b[39m \u001b[33;03m    ----------\u001b[39;00m\n\u001b[32m    148\u001b[39m \u001b[33;03m    fid : file, str, or pathlib.Path\u001b[39;00m\n\u001b[32m    149\u001b[39m \u001b[33;03m        The zipped archive to open. This is either a file-like object\u001b[39;00m\n\u001b[32m    150\u001b[39m \u001b[33;03m        or a string containing the path to the archive.\u001b[39;00m\n\u001b[32m    151\u001b[39m \u001b[33;03m    own_fid : bool, optional\u001b[39;00m\n\u001b[32m    152\u001b[39m \u001b[33;03m        Whether NpzFile should close the file handle.\u001b[39;00m\n\u001b[32m    153\u001b[39m \u001b[33;03m        Requires that `fid` is a file-like object.\u001b[39;00m\n\u001b[32m    154\u001b[39m \n\u001b[32m    155\u001b[39m \u001b[33;03m    Examples\u001b[39;00m\n\u001b[32m    156\u001b[39m \u001b[33;03m    --------\u001b[39;00m\n\u001b[32m    157\u001b[39m \u001b[33;03m    >>> import numpy as np\u001b[39;00m\n\u001b[32m    158\u001b[39m \u001b[33;03m    >>> from tempfile import TemporaryFile\u001b[39;00m\n\u001b[32m    159\u001b[39m \u001b[33;03m    >>> outfile = TemporaryFile()\u001b[39;00m\n\u001b[32m    160\u001b[39m \u001b[33;03m    >>> x = np.arange(10)\u001b[39;00m\n\u001b[32m    161\u001b[39m \u001b[33;03m    >>> y = np.sin(x)\u001b[39;00m\n\u001b[32m    162\u001b[39m \u001b[33;03m    >>> np.savez(outfile, x=x, y=y)\u001b[39;00m\n\u001b[32m    163\u001b[39m \u001b[33;03m    >>> _ = outfile.seek(0)\u001b[39;00m\n\u001b[32m    164\u001b[39m \n\u001b[32m    165\u001b[39m \u001b[33;03m    >>> npz = np.load(outfile)\u001b[39;00m\n\u001b[32m    166\u001b[39m \u001b[33;03m    >>> isinstance(npz, np.lib.npyio.NpzFile)\u001b[39;00m\n\u001b[32m    167\u001b[39m \u001b[33;03m    True\u001b[39;00m\n\u001b[32m    168\u001b[39m \u001b[33;03m    >>> npz\u001b[39;00m\n\u001b[32m    169\u001b[39m \u001b[33;03m    NpzFile 'object' with keys: x, y\u001b[39;00m\n\u001b[32m    170\u001b[39m \u001b[33;03m    >>> sorted(npz.files)\u001b[39;00m\n\u001b[32m    171\u001b[39m \u001b[33;03m    ['x', 'y']\u001b[39;00m\n\u001b[32m    172\u001b[39m \u001b[33;03m    >>> npz['x']  # getitem access\u001b[39;00m\n\u001b[32m    173\u001b[39m \u001b[33;03m    array([0, 1, 2, 3, 4, 5, 6, 7, 8, 9])\u001b[39;00m\n\u001b[32m    174\u001b[39m \u001b[33;03m    >>> npz.f.x  # attribute lookup\u001b[39;00m\n\u001b[32m    175\u001b[39m \u001b[33;03m    array([0, 1, 2, 3, 4, 5, 6, 7, 8, 9])\u001b[39;00m\n\u001b[32m    176\u001b[39m \n\u001b[32m    177\u001b[39m \u001b[33;03m    \"\"\"\u001b[39;00m\n\u001b[32m    178\u001b[39m     \u001b[38;5;66;03m# Make __exit__ safe if zipfile_factory raises an exception\u001b[39;00m\n\u001b[32m    179\u001b[39m     \u001b[38;5;28mzip\u001b[39m = \u001b[38;5;28;01mNone\u001b[39;00m\n",
      "\u001b[36mFile \u001b[39m\u001b[32m/opt/miniconda3/envs/hackathon/lib/python3.13/zipfile/__init__.py:1385\u001b[39m, in \u001b[36m__init__\u001b[39m\u001b[34m(self, file, mode, compression, allowZip64, compresslevel, strict_timestamps, metadata_encoding)\u001b[39m\n",
      "\u001b[36mFile \u001b[39m\u001b[32m/opt/miniconda3/envs/hackathon/lib/python3.13/zipfile/__init__.py:1493\u001b[39m, in \u001b[36m_RealGetContents\u001b[39m\u001b[34m(self)\u001b[39m\n",
      "\u001b[31mLookupError\u001b[39m: unknown encoding: cp437"
     ]
    }
   ],
   "source": [
    "w2v = np.load('/Users/acw707/Documents/abrsm_lmth25/data/w2v_dict.npz')"
   ]
  },
  {
   "cell_type": "code",
   "execution_count": 4,
   "id": "23b96f3f",
   "metadata": {},
   "outputs": [],
   "source": [
    "mark_dist = np.load('/Users/acw707/Documents/abrsm_lmth25/mark_dist.npy')"
   ]
  },
  {
   "cell_type": "code",
   "execution_count": 14,
   "id": "c22b6738",
   "metadata": {},
   "outputs": [],
   "source": [
    "\n",
    "\n",
    "mask_dist = [1,1,1,1,1,5,4,8,9,5,9,3,8,9,15,13,14,13,24,25,18,11,16,18,10,16,11,15,10,14,10,5,7,4,7,4,3,0,0,0]"
   ]
  },
  {
   "cell_type": "code",
   "execution_count": 17,
   "id": "0de578ef",
   "metadata": {},
   "outputs": [],
   "source": [
    "np.save('/Users/acw707/Documents/abrsm_lmth25/mask_dist.npy', np.array(mask_dist))"
   ]
  },
  {
   "cell_type": "code",
   "execution_count": 15,
   "id": "a096f483",
   "metadata": {},
   "outputs": [],
   "source": [
    "weights = 1.0 / (mark_dist + 1e-6)\n",
    "weights[mark_dist == 0] = 0  # Set weight to zero for classes with no samples\n",
    "weights = weights / weights.sum()  # Optional: normalize"
   ]
  },
  {
   "cell_type": "code",
   "execution_count": 16,
   "id": "f350e73d",
   "metadata": {},
   "outputs": [
    {
     "name": "stdout",
     "output_type": "stream",
     "text": [
      "[0.09443892 0.09443892 0.09443892 0.18887775 0.09443892 0.02360974\n",
      " 0.03147965 0.01349128 0.01349128 0.02360974 0.01111047 0.03777558\n",
      " 0.01349128 0.01049322 0.00651303 0.00858536 0.00726453 0.00821208\n",
      " 0.00439251 0.00429268 0.00629593 0.00858536 0.00629593 0.00572357\n",
      " 0.01049322 0.00726453 0.00899419 0.00726453 0.01111047 0.00726453\n",
      " 0.0094439  0.01888779 0.01349128 0.02360974 0.01573983 0.02360974\n",
      " 0.03147965 0.         0.         0.        ]\n"
     ]
    }
   ],
   "source": [
    "print(weights)"
   ]
  },
  {
   "cell_type": "code",
   "execution_count": null,
   "id": "3a76e9ad",
   "metadata": {},
   "outputs": [],
   "source": []
  }
 ],
 "metadata": {
  "kernelspec": {
   "display_name": "hackathon",
   "language": "python",
   "name": "python3"
  },
  "language_info": {
   "codemirror_mode": {
    "name": "ipython",
    "version": 3
   },
   "file_extension": ".py",
   "mimetype": "text/x-python",
   "name": "python",
   "nbconvert_exporter": "python",
   "pygments_lexer": "ipython3",
   "version": "3.13.5"
  }
 },
 "nbformat": 4,
 "nbformat_minor": 5
}
