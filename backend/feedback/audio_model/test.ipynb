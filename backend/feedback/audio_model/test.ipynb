{
 "cells": [
  {
   "cell_type": "code",
   "execution_count": 12,
   "id": "6d20ab5e",
   "metadata": {},
   "outputs": [],
   "source": [
    "import numpy as np"
   ]
  },
  {
   "cell_type": "code",
   "execution_count": 4,
   "id": "23b96f3f",
   "metadata": {},
   "outputs": [],
   "source": [
    "mark_dist = np.load('/Users/acw707/Documents/abrsm_lmth25/mark_dist.npy')"
   ]
  },
  {
   "cell_type": "code",
   "execution_count": 14,
   "id": "c22b6738",
   "metadata": {},
   "outputs": [],
   "source": [
    "\n",
    "\n",
    "mask_dist = [1,1,1,1,1,5,4,8,9,5,9,3,8,9,15,13,14,13,24,25,18,11,16,18,10,16,11,15,10,14,10,5,7,4,7,4,3,0,0,0]"
   ]
  },
  {
   "cell_type": "code",
   "execution_count": 17,
   "id": "0de578ef",
   "metadata": {},
   "outputs": [],
   "source": [
    "np.save('/Users/acw707/Documents/abrsm_lmth25/mask_dist.npy', np.array(mask_dist))"
   ]
  },
  {
   "cell_type": "code",
   "execution_count": 15,
   "id": "a096f483",
   "metadata": {},
   "outputs": [],
   "source": [
    "weights = 1.0 / (mark_dist + 1e-6)\n",
    "weights[mark_dist == 0] = 0  # Set weight to zero for classes with no samples\n",
    "weights = weights / weights.sum()  # Optional: normalize"
   ]
  },
  {
   "cell_type": "code",
   "execution_count": 16,
   "id": "f350e73d",
   "metadata": {},
   "outputs": [
    {
     "name": "stdout",
     "output_type": "stream",
     "text": [
      "[0.09443892 0.09443892 0.09443892 0.18887775 0.09443892 0.02360974\n",
      " 0.03147965 0.01349128 0.01349128 0.02360974 0.01111047 0.03777558\n",
      " 0.01349128 0.01049322 0.00651303 0.00858536 0.00726453 0.00821208\n",
      " 0.00439251 0.00429268 0.00629593 0.00858536 0.00629593 0.00572357\n",
      " 0.01049322 0.00726453 0.00899419 0.00726453 0.01111047 0.00726453\n",
      " 0.0094439  0.01888779 0.01349128 0.02360974 0.01573983 0.02360974\n",
      " 0.03147965 0.         0.         0.        ]\n"
     ]
    }
   ],
   "source": [
    "print(weights)"
   ]
  },
  {
   "cell_type": "code",
   "execution_count": null,
   "id": "3a76e9ad",
   "metadata": {},
   "outputs": [],
   "source": []
  }
 ],
 "metadata": {
  "kernelspec": {
   "display_name": "hackathon",
   "language": "python",
   "name": "python3"
  },
  "language_info": {
   "codemirror_mode": {
    "name": "ipython",
    "version": 3
   },
   "file_extension": ".py",
   "mimetype": "text/x-python",
   "name": "python",
   "nbconvert_exporter": "python",
   "pygments_lexer": "ipython3",
   "version": "3.13.5"
  }
 },
 "nbformat": 4,
 "nbformat_minor": 5
}
